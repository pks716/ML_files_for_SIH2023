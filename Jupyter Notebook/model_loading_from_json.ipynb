{
 "cells": [
  {
   "cell_type": "code",
   "execution_count": 1,
   "id": "5dbeaa75-cf32-4e37-96de-904113dfa496",
   "metadata": {},
   "outputs": [
    {
     "name": "stderr",
     "output_type": "stream",
     "text": [
      "2023-09-22 18:42:04.958392: I tensorflow/core/util/port.cc:110] oneDNN custom operations are on. You may see slightly different numerical results due to floating-point round-off errors from different computation orders. To turn them off, set the environment variable `TF_ENABLE_ONEDNN_OPTS=0`.\n",
      "2023-09-22 18:42:04.959398: I tensorflow/tsl/cuda/cudart_stub.cc:28] Could not find cuda drivers on your machine, GPU will not be used.\n",
      "2023-09-22 18:42:04.981512: I tensorflow/tsl/cuda/cudart_stub.cc:28] Could not find cuda drivers on your machine, GPU will not be used.\n",
      "2023-09-22 18:42:04.982188: I tensorflow/core/platform/cpu_feature_guard.cc:182] This TensorFlow binary is optimized to use available CPU instructions in performance-critical operations.\n",
      "To enable the following instructions: AVX2 AVX_VNNI FMA, in other operations, rebuild TensorFlow with the appropriate compiler flags.\n",
      "2023-09-22 18:42:05.426950: W tensorflow/compiler/tf2tensorrt/utils/py_utils.cc:38] TF-TRT Warning: Could not find TensorRT\n",
      "2023-09-22 18:42:06.024304: I itex/core/wrapper/itex_gpu_wrapper.cc:35] Intel Extension for Tensorflow* GPU backend is loaded.\n",
      "2023-09-22 18:42:06.061723: W itex/core/ops/op_init.cc:58] Op: _QuantizedMaxPool3D is already registered in Tensorflow\n",
      "2023-09-22 18:42:06.066886: I itex/core/devices/gpu/itex_gpu_runtime.cc:129] Selected platform: Intel(R) Level-Zero\n",
      "2023-09-22 18:42:06.066900: I itex/core/devices/gpu/itex_gpu_runtime.cc:154] number of sub-devices is zero, expose root device.\n",
      "2023-09-22 18:42:06.236167: I tensorflow/core/common_runtime/pluggable_device/pluggable_device_factory.cc:303] Could not identify NUMA node of platform XPU ID 0, defaulting to 0. Your kernel may not have been built with NUMA support.\n",
      "2023-09-22 18:42:06.236211: I tensorflow/core/common_runtime/pluggable_device/pluggable_device_factory.cc:269] Created TensorFlow device (/job:localhost/replica:0/task:0/device:XPU:0 with 0 MB memory) -> physical PluggableDevice (device: 0, name: XPU, pci bus id: <undefined>)\n"
     ]
    }
   ],
   "source": [
    "from keras.models import model_from_json\n",
    "json_file = open('model-50epochs.json', 'r')\n",
    "loaded_model_json = json_file.read()\n",
    "json_file.close()\n",
    "loaded_model = model_from_json(loaded_model_json)"
   ]
  },
  {
   "cell_type": "code",
   "execution_count": 2,
   "id": "d3904ae8-f6d2-41ee-be85-03374f0d6742",
   "metadata": {},
   "outputs": [],
   "source": [
    "loaded_model.load_weights(\"mobilenetv2---50epochs---75.78.h5\")\n",
    "loaded_model.compile(optimizer='adam',loss='sparse_categorical_crossentropy', metrics=['accuracy'])"
   ]
  },
  {
   "cell_type": "code",
   "execution_count": 26,
   "id": "f30b76af-5925-4f79-8fde-8d4f4dd77e30",
   "metadata": {},
   "outputs": [],
   "source": [
    "labels=[\"Actinic keratoses and intraepithelial carcinoma / Bowen's disease\",\n",
    "'Basal cell carcinoma',\n",
    "'Benign keratosis-like lesions (solar lentigines / seborrheic keratoses and lichen-planus like keratoses)',\n",
    "'Dermatofibroma',\n",
    "'Melanoma',\n",
    "'Melanocytic nevi', \n",
    "'Vascular lesions (angiomas, angiokeratomas, pyogenic granulomas and hemorrhage)',\n",
    "'Vitiligo']"
   ]
  },
  {
   "cell_type": "code",
   "execution_count": 33,
   "id": "b0fe62fe-d3a3-4f9b-870a-e73a05b9c765",
   "metadata": {},
   "outputs": [
    {
     "name": "stdout",
     "output_type": "stream",
     "text": [
      "1/1 [==============================] - 0s 19ms/step\n"
     ]
    }
   ],
   "source": [
    "import tensorflow as tf\n",
    "from tensorflow import keras\n",
    "img = keras.preprocessing.image.load_img('/home/pks/project/testvit.jpg', target_size=(224, 224))\n",
    "img_array = keras.preprocessing.image.img_to_array(img)\n",
    "img_array = tf.expand_dims(img_array, 0)\n",
    "predictions = loaded_model.predict(img_array)\n",
    "y_classes = predictions.argmax(axis=-1)\n",
    "score = max(predictions[0]*100)\n",
    "#print(score)"
   ]
  },
  {
   "cell_type": "code",
   "execution_count": 19,
   "id": "1ddf9789-d120-4324-8ea7-c7a9de73ae48",
   "metadata": {},
   "outputs": [
    {
     "data": {
      "text/plain": [
       "array([1.7850586e-12, 4.8019379e-13, 5.3847307e-13, 2.8898359e-05,\n",
       "       1.8590262e-07, 2.5778008e-04, 8.0754976e-14, 9.9971312e-01],\n",
       "      dtype=float32)"
      ]
     },
     "execution_count": 19,
     "metadata": {},
     "output_type": "execute_result"
    }
   ],
   "source": [
    "score"
   ]
  },
  {
   "cell_type": "code",
   "execution_count": 35,
   "id": "f85f91ca-ac94-4cfe-b5fd-c968f8480373",
   "metadata": {},
   "outputs": [
    {
     "name": "stdout",
     "output_type": "stream",
     "text": [
      "1/1 [==============================] - 0s 19ms/step\n",
      "Vitiligo ---> 99.97131 %\n"
     ]
    }
   ],
   "source": [
    "index=np.argmax(loaded_model.predict(img_array), axis=-1)\n",
    "print(labels[index[0]],\"--->\",score,\"%\")"
   ]
  },
  {
   "cell_type": "code",
   "execution_count": null,
   "id": "0dd1ecd8-25e2-4fe3-a95c-c5398160041b",
   "metadata": {},
   "outputs": [],
   "source": []
  }
 ],
 "metadata": {
  "kernelspec": {
   "display_name": "Python 3 (ipykernel)",
   "language": "python",
   "name": "python3"
  },
  "language_info": {
   "codemirror_mode": {
    "name": "ipython",
    "version": 3
   },
   "file_extension": ".py",
   "mimetype": "text/x-python",
   "name": "python",
   "nbconvert_exporter": "python",
   "pygments_lexer": "ipython3",
   "version": "3.10.13"
  }
 },
 "nbformat": 4,
 "nbformat_minor": 5
}
