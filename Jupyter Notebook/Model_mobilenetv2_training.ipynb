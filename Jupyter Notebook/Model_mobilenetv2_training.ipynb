{
 "cells": [
  {
   "cell_type": "code",
   "execution_count": 12,
   "id": "0c42c5d9-c812-4ede-9ffb-43327c8c790c",
   "metadata": {},
   "outputs": [],
   "source": [
    "import numpy as np\n",
    "import pandas as pd\n",
    "import matplotlib.pyplot as plt\n",
    "import tensorflow as tf\n",
    "from tensorflow import keras\n",
    "from tensorflow.keras import layers"
   ]
  },
  {
   "cell_type": "code",
   "execution_count": 13,
   "id": "420f2d28-304d-4f76-9e48-38141b4b1c41",
   "metadata": {},
   "outputs": [],
   "source": [
    "batch_size = 50\n",
    "img_height = 224\n",
    "img_width = 224"
   ]
  },
  {
   "cell_type": "code",
   "execution_count": 14,
   "id": "088f20ba-a4cb-410f-84e8-6349c51414a7",
   "metadata": {},
   "outputs": [
    {
     "name": "stdout",
     "output_type": "stream",
     "text": [
      "Found 8997 files belonging to 8 classes.\n",
      "Found 1119 files belonging to 8 classes.\n"
     ]
    }
   ],
   "source": [
    "train = tf.keras.preprocessing.image_dataset_from_directory(\n",
    "    'base_dir/train_dir',\n",
    "    seed=1337,\n",
    "    image_size= (img_height, img_width),\n",
    "    batch_size=batch_size)\n",
    "\n",
    "\n",
    "validation =  tf.keras.preprocessing.image_dataset_from_directory(\n",
    "    'base_dir/val_dir',\n",
    "    seed=1337,\n",
    "    image_size= (img_height, img_width),\n",
    "    batch_size=batch_size)"
   ]
  },
  {
   "cell_type": "code",
   "execution_count": 15,
   "id": "c250c58a-6223-41c5-8620-1f5b687524ef",
   "metadata": {},
   "outputs": [],
   "source": [
    "class_names = train.class_names"
   ]
  },
  {
   "cell_type": "code",
   "execution_count": 5,
   "id": "2c611844-3c60-4d57-864b-2d119ddbbeb7",
   "metadata": {},
   "outputs": [],
   "source": [
    "img_shape = (img_height, img_width, 3)\n",
    "base_model = tf.keras.applications.MobileNetV2(input_shape=img_shape,\n",
    "                                               include_top=False,\n",
    "                                               weights='imagenet')\n",
    "base_model.trainable = False"
   ]
  },
  {
   "cell_type": "code",
   "execution_count": 16,
   "id": "240c5f58-6726-490c-b88a-93448a45237d",
   "metadata": {},
   "outputs": [
    {
     "data": {
      "text/plain": [
       "['akiec', 'bcc', 'bkl', 'df', 'mel', 'nv', 'vasc', 'vitiligo']"
      ]
     },
     "execution_count": 16,
     "metadata": {},
     "output_type": "execute_result"
    }
   ],
   "source": [
    "class_names"
   ]
  },
  {
   "cell_type": "code",
   "execution_count": 6,
   "id": "58360408-732e-4239-a13a-5cb91d894aa8",
   "metadata": {},
   "outputs": [],
   "source": [
    "model = tf.keras.Sequential([\n",
    "    base_model,\n",
    "    layers.Conv2D(32, 3, activation='relu'),\n",
    "    layers.Conv2D(64, 3, activation='relu'),\n",
    "    layers.Conv2D(128, 3, activation='relu'),\n",
    "    layers.Flatten(),\n",
    "    layers.Dense(len(class_names), activation= 'softmax')])"
   ]
  },
  {
   "cell_type": "code",
   "execution_count": 7,
   "id": "a516b79f-a0b9-42b8-8234-3a471240ed91",
   "metadata": {},
   "outputs": [],
   "source": [
    "model.compile(optimizer='adam',loss='sparse_categorical_crossentropy', metrics=['accuracy'])"
   ]
  },
  {
   "cell_type": "code",
   "execution_count": 8,
   "id": "2a543bfc-e00f-4ced-86e6-0d1389d293bd",
   "metadata": {},
   "outputs": [
    {
     "name": "stdout",
     "output_type": "stream",
     "text": [
      "Epoch 1/50\n"
     ]
    },
    {
     "name": "stderr",
     "output_type": "stream",
     "text": [
      "2023-09-22 18:26:53.953566: I tensorflow/core/grappler/optimizers/custom_graph_optimizer_registry.cc:114] Plugin optimizer for device_type XPU is enabled.\n"
     ]
    },
    {
     "name": "stdout",
     "output_type": "stream",
     "text": [
      "180/180 [==============================] - ETA: 0s - loss: 1.0980 - accuracy: 0.6487"
     ]
    },
    {
     "name": "stderr",
     "output_type": "stream",
     "text": [
      "2023-09-22 18:27:17.692942: I tensorflow/core/grappler/optimizers/custom_graph_optimizer_registry.cc:114] Plugin optimizer for device_type XPU is enabled.\n"
     ]
    },
    {
     "name": "stdout",
     "output_type": "stream",
     "text": [
      "180/180 [==============================] - 31s 125ms/step - loss: 1.0980 - accuracy: 0.6487 - val_loss: 0.6203 - val_accuracy: 0.7998\n",
      "Epoch 2/50\n",
      "180/180 [==============================] - 13s 74ms/step - loss: 0.9204 - accuracy: 0.6797 - val_loss: 0.6003 - val_accuracy: 0.8016\n",
      "Epoch 3/50\n",
      "180/180 [==============================] - 13s 74ms/step - loss: 0.8333 - accuracy: 0.7012 - val_loss: 0.6274 - val_accuracy: 0.8195\n",
      "Epoch 4/50\n",
      "180/180 [==============================] - 13s 74ms/step - loss: 0.7692 - accuracy: 0.7231 - val_loss: 0.6615 - val_accuracy: 0.7989\n",
      "Epoch 5/50\n",
      "180/180 [==============================] - 13s 74ms/step - loss: 0.7005 - accuracy: 0.7474 - val_loss: 0.6214 - val_accuracy: 0.7873\n",
      "Epoch 6/50\n",
      "180/180 [==============================] - 13s 74ms/step - loss: 0.6482 - accuracy: 0.7735 - val_loss: 0.6347 - val_accuracy: 0.7998\n",
      "Epoch 7/50\n",
      "180/180 [==============================] - 13s 74ms/step - loss: 0.5971 - accuracy: 0.7878 - val_loss: 0.6724 - val_accuracy: 0.7855\n",
      "Epoch 8/50\n",
      "180/180 [==============================] - 13s 74ms/step - loss: 0.5250 - accuracy: 0.8115 - val_loss: 0.8127 - val_accuracy: 0.7337\n",
      "Epoch 9/50\n",
      "180/180 [==============================] - 13s 74ms/step - loss: 0.4945 - accuracy: 0.8241 - val_loss: 0.7331 - val_accuracy: 0.7784\n",
      "Epoch 10/50\n",
      "180/180 [==============================] - 13s 74ms/step - loss: 0.4441 - accuracy: 0.8422 - val_loss: 0.8863 - val_accuracy: 0.7525\n",
      "Epoch 11/50\n",
      "180/180 [==============================] - 13s 74ms/step - loss: 0.3954 - accuracy: 0.8642 - val_loss: 0.7892 - val_accuracy: 0.7846\n",
      "Epoch 12/50\n",
      "180/180 [==============================] - 13s 74ms/step - loss: 0.3343 - accuracy: 0.8752 - val_loss: 0.9646 - val_accuracy: 0.7578\n",
      "Epoch 13/50\n",
      "180/180 [==============================] - 14s 74ms/step - loss: 0.3199 - accuracy: 0.8874 - val_loss: 0.8313 - val_accuracy: 0.8097\n",
      "Epoch 14/50\n",
      "180/180 [==============================] - 13s 74ms/step - loss: 0.2643 - accuracy: 0.9059 - val_loss: 0.9324 - val_accuracy: 0.7909\n",
      "Epoch 15/50\n",
      "180/180 [==============================] - 13s 74ms/step - loss: 0.2617 - accuracy: 0.9100 - val_loss: 0.9189 - val_accuracy: 0.7668\n",
      "Epoch 16/50\n",
      "180/180 [==============================] - 13s 74ms/step - loss: 0.2933 - accuracy: 0.8945 - val_loss: 0.8990 - val_accuracy: 0.7918\n",
      "Epoch 17/50\n",
      "180/180 [==============================] - 13s 74ms/step - loss: 0.2075 - accuracy: 0.9234 - val_loss: 1.1201 - val_accuracy: 0.7873\n",
      "Epoch 18/50\n",
      "180/180 [==============================] - 14s 74ms/step - loss: 0.2136 - accuracy: 0.9261 - val_loss: 1.1573 - val_accuracy: 0.7882\n",
      "Epoch 19/50\n",
      "180/180 [==============================] - 13s 74ms/step - loss: 0.1608 - accuracy: 0.9408 - val_loss: 1.2402 - val_accuracy: 0.7962\n",
      "Epoch 20/50\n",
      "180/180 [==============================] - 13s 74ms/step - loss: 0.1383 - accuracy: 0.9488 - val_loss: 1.5162 - val_accuracy: 0.7560\n",
      "Epoch 21/50\n",
      "180/180 [==============================] - 13s 74ms/step - loss: 0.1373 - accuracy: 0.9456 - val_loss: 1.3559 - val_accuracy: 0.7516\n",
      "Epoch 22/50\n",
      "180/180 [==============================] - 13s 74ms/step - loss: 0.1324 - accuracy: 0.9521 - val_loss: 1.8114 - val_accuracy: 0.7757\n",
      "Epoch 23/50\n",
      "180/180 [==============================] - 13s 74ms/step - loss: 0.1209 - accuracy: 0.9610 - val_loss: 1.5561 - val_accuracy: 0.7864\n",
      "Epoch 24/50\n",
      "180/180 [==============================] - 13s 74ms/step - loss: 0.1082 - accuracy: 0.9635 - val_loss: 1.4224 - val_accuracy: 0.7650\n",
      "Epoch 25/50\n",
      "180/180 [==============================] - 14s 74ms/step - loss: 0.1009 - accuracy: 0.9645 - val_loss: 1.5508 - val_accuracy: 0.7766\n",
      "Epoch 26/50\n",
      "180/180 [==============================] - 13s 74ms/step - loss: 0.1182 - accuracy: 0.9548 - val_loss: 1.5949 - val_accuracy: 0.7945\n",
      "Epoch 27/50\n",
      "180/180 [==============================] - 14s 75ms/step - loss: 0.0887 - accuracy: 0.9668 - val_loss: 1.8086 - val_accuracy: 0.7909\n",
      "Epoch 28/50\n",
      "180/180 [==============================] - 13s 74ms/step - loss: 0.0720 - accuracy: 0.9785 - val_loss: 1.8654 - val_accuracy: 0.7864\n",
      "Epoch 29/50\n",
      "180/180 [==============================] - 13s 74ms/step - loss: 0.1075 - accuracy: 0.9644 - val_loss: 1.8067 - val_accuracy: 0.7721\n",
      "Epoch 30/50\n",
      "180/180 [==============================] - 14s 74ms/step - loss: 0.1183 - accuracy: 0.9594 - val_loss: 1.6611 - val_accuracy: 0.7685\n",
      "Epoch 31/50\n",
      "180/180 [==============================] - 13s 74ms/step - loss: 0.0607 - accuracy: 0.9782 - val_loss: 2.3423 - val_accuracy: 0.7694\n",
      "Epoch 32/50\n",
      "180/180 [==============================] - 13s 74ms/step - loss: 0.0595 - accuracy: 0.9792 - val_loss: 1.7774 - val_accuracy: 0.7364\n",
      "Epoch 33/50\n",
      "180/180 [==============================] - 13s 74ms/step - loss: 0.0690 - accuracy: 0.9765 - val_loss: 2.3496 - val_accuracy: 0.7793\n",
      "Epoch 34/50\n",
      "180/180 [==============================] - 14s 74ms/step - loss: 0.0830 - accuracy: 0.9732 - val_loss: 2.1346 - val_accuracy: 0.7739\n",
      "Epoch 35/50\n",
      "180/180 [==============================] - 14s 75ms/step - loss: 0.0630 - accuracy: 0.9800 - val_loss: 1.7444 - val_accuracy: 0.7819\n",
      "Epoch 36/50\n",
      "180/180 [==============================] - 14s 75ms/step - loss: 0.0778 - accuracy: 0.9749 - val_loss: 1.5254 - val_accuracy: 0.7453\n",
      "Epoch 37/50\n",
      "180/180 [==============================] - 13s 74ms/step - loss: 0.0713 - accuracy: 0.9724 - val_loss: 2.0700 - val_accuracy: 0.7551\n",
      "Epoch 38/50\n",
      "180/180 [==============================] - 13s 74ms/step - loss: 0.0600 - accuracy: 0.9792 - val_loss: 2.5478 - val_accuracy: 0.7954\n",
      "Epoch 39/50\n",
      "180/180 [==============================] - 14s 74ms/step - loss: 0.1283 - accuracy: 0.9604 - val_loss: 2.0244 - val_accuracy: 0.7730\n",
      "Epoch 40/50\n",
      "180/180 [==============================] - 13s 74ms/step - loss: 0.0450 - accuracy: 0.9824 - val_loss: 1.9834 - val_accuracy: 0.7426\n",
      "Epoch 41/50\n",
      "180/180 [==============================] - 13s 74ms/step - loss: 0.0327 - accuracy: 0.9887 - val_loss: 2.0980 - val_accuracy: 0.7721\n",
      "Epoch 42/50\n",
      "180/180 [==============================] - 13s 74ms/step - loss: 0.1004 - accuracy: 0.9667 - val_loss: 2.0651 - val_accuracy: 0.7945\n",
      "Epoch 43/50\n",
      "180/180 [==============================] - 13s 74ms/step - loss: 0.0328 - accuracy: 0.9890 - val_loss: 1.9172 - val_accuracy: 0.7855\n",
      "Epoch 44/50\n",
      "180/180 [==============================] - 13s 74ms/step - loss: 0.0458 - accuracy: 0.9849 - val_loss: 2.1551 - val_accuracy: 0.7542\n",
      "Epoch 45/50\n",
      "180/180 [==============================] - 13s 74ms/step - loss: 0.1023 - accuracy: 0.9662 - val_loss: 1.7481 - val_accuracy: 0.7605\n",
      "Epoch 46/50\n",
      "180/180 [==============================] - 14s 75ms/step - loss: 0.0344 - accuracy: 0.9883 - val_loss: 1.9770 - val_accuracy: 0.7730\n",
      "Epoch 47/50\n",
      "180/180 [==============================] - 14s 75ms/step - loss: 0.0374 - accuracy: 0.9881 - val_loss: 2.1001 - val_accuracy: 0.7936\n",
      "Epoch 48/50\n",
      "180/180 [==============================] - 13s 74ms/step - loss: 0.0519 - accuracy: 0.9828 - val_loss: 2.0308 - val_accuracy: 0.7659\n",
      "Epoch 49/50\n",
      "180/180 [==============================] - 13s 74ms/step - loss: 0.0701 - accuracy: 0.9761 - val_loss: 2.0340 - val_accuracy: 0.7703\n",
      "Epoch 50/50\n",
      "180/180 [==============================] - 13s 74ms/step - loss: 0.0344 - accuracy: 0.9864 - val_loss: 2.5050 - val_accuracy: 0.7578\n"
     ]
    }
   ],
   "source": [
    "history = model.fit(train, validation_data = validation, epochs = 50)"
   ]
  },
  {
   "cell_type": "code",
   "execution_count": 9,
   "id": "b147d52f-650d-4e29-81e8-daa24eca82cc",
   "metadata": {},
   "outputs": [],
   "source": [
    "model_architecture = model.to_json()"
   ]
  },
  {
   "cell_type": "code",
   "execution_count": 10,
   "id": "a255c2d7-f4c4-4d2f-ae57-5c76fe597b82",
   "metadata": {},
   "outputs": [],
   "source": [
    "with open(\"model-50epochs.json\", \"w\") as json_file:\n",
    "    json_file.write(model_architecture)"
   ]
  },
  {
   "cell_type": "code",
   "execution_count": 11,
   "id": "7778ad86-9d0e-4e0e-acbd-0d7752aa73b0",
   "metadata": {},
   "outputs": [],
   "source": [
    "model.save_weights('mobilenetv2---50epochs---75.78.h5')"
   ]
  },
  {
   "cell_type": "code",
   "execution_count": 14,
   "id": "cc987fa1-94b7-491c-a93d-3c5357772d22",
   "metadata": {},
   "outputs": [],
   "source": []
  },
  {
   "cell_type": "code",
   "execution_count": 15,
   "id": "160d2c4e-16d8-4f56-8c2e-9238e84eacd9",
   "metadata": {},
   "outputs": [],
   "source": []
  }
 ],
 "metadata": {
  "kernelspec": {
   "display_name": "Python 3 (ipykernel)",
   "language": "python",
   "name": "python3"
  },
  "language_info": {
   "codemirror_mode": {
    "name": "ipython",
    "version": 3
   },
   "file_extension": ".py",
   "mimetype": "text/x-python",
   "name": "python",
   "nbconvert_exporter": "python",
   "pygments_lexer": "ipython3",
   "version": "3.10.13"
  }
 },
 "nbformat": 4,
 "nbformat_minor": 5
}
