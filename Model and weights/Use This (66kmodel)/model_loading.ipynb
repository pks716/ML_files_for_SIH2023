{
  "cells": [
    {
      "cell_type": "code",
      "execution_count": 2,
      "id": "5dbeaa75-cf32-4e37-96de-904113dfa496",
      "metadata": {
        "id": "5dbeaa75-cf32-4e37-96de-904113dfa496"
      },
      "outputs": [],
      "source": [
        "from keras.models import model_from_json\n",
        "json_file = open('/content/drive/MyDrive/derm-id/66kmodel/66k-50epochs.json', 'r')\n",
        "loaded_model_json = json_file.read()\n",
        "json_file.close()\n",
        "loaded_model = model_from_json(loaded_model_json)"
      ]
    },
    {
      "cell_type": "code",
      "source": [
        "from google.colab import drive\n",
        "drive.mount('/content/drive')"
      ],
      "metadata": {
        "colab": {
          "base_uri": "https://localhost:8080/"
        },
        "id": "op9c_o8fUtnK",
        "outputId": "145daa91-3e49-44ee-9d01-93fdfe79c47d"
      },
      "id": "op9c_o8fUtnK",
      "execution_count": 1,
      "outputs": [
        {
          "output_type": "stream",
          "name": "stdout",
          "text": [
            "Mounted at /content/drive\n"
          ]
        }
      ]
    },
    {
      "cell_type": "code",
      "execution_count": 3,
      "id": "d3904ae8-f6d2-41ee-be85-03374f0d6742",
      "metadata": {
        "id": "d3904ae8-f6d2-41ee-be85-03374f0d6742"
      },
      "outputs": [],
      "source": [
        "loaded_model.load_weights(\"/content/drive/MyDrive/derm-id/66kmodel/66k-mobilenetv2-50epochs-76.85.h5\")\n",
        "loaded_model.compile(optimizer='adam',loss='sparse_categorical_crossentropy', metrics=['accuracy'])"
      ]
    },
    {
      "cell_type": "code",
      "execution_count": 4,
      "id": "d48f73bf-9d52-4bf3-863a-5896359dfb56",
      "metadata": {
        "colab": {
          "base_uri": "https://localhost:8080/"
        },
        "id": "d48f73bf-9d52-4bf3-863a-5896359dfb56",
        "outputId": "d3231243-a574-4d81-c7a5-748f6c7abff9"
      },
      "outputs": [
        {
          "output_type": "stream",
          "name": "stderr",
          "text": [
            "WARNING:absl:`mobilenetv2_1.00_224_input` is not a valid tf.function parameter name. Sanitizing to `mobilenetv2_1_00_224_input`.\n",
            "WARNING:absl:`mobilenetv2_1.00_224_input` is not a valid tf.function parameter name. Sanitizing to `mobilenetv2_1_00_224_input`.\n",
            "WARNING:absl:`mobilenetv2_1.00_224_input` is not a valid tf.function parameter name. Sanitizing to `mobilenetv2_1_00_224_input`.\n"
          ]
        }
      ],
      "source": [
        "import tensorflow as tf\n",
        "converter=tf.lite.TFLiteConverter.from_keras_model(loaded_model)\n",
        "tflite_model=converter.convert()\n",
        "\n",
        "with open('66kmodel.tflite','wb') as f:\n",
        "    f.write(tflite_model)"
      ]
    },
    {
      "cell_type": "code",
      "execution_count": 5,
      "id": "248bfa36-f97d-426e-ab33-42d0a1bde6d5",
      "metadata": {
        "id": "248bfa36-f97d-426e-ab33-42d0a1bde6d5"
      },
      "outputs": [],
      "source": [
        "import pickle"
      ]
    },
    {
      "cell_type": "code",
      "execution_count": 6,
      "id": "fe8aedd3-f86e-4540-933c-d5a7308eb4e7",
      "metadata": {
        "id": "fe8aedd3-f86e-4540-933c-d5a7308eb4e7"
      },
      "outputs": [],
      "source": [
        "pickle.dump(loaded_model, open('model.pkl', 'wb'))"
      ]
    },
    {
      "cell_type": "code",
      "execution_count": null,
      "id": "d7232dcd-543e-4275-9168-f44c77773b78",
      "metadata": {
        "id": "d7232dcd-543e-4275-9168-f44c77773b78"
      },
      "outputs": [],
      "source": []
    },
    {
      "cell_type": "code",
      "execution_count": null,
      "id": "517d9e5b-f839-4c79-aa72-bbdf46c6cf6d",
      "metadata": {
        "id": "517d9e5b-f839-4c79-aa72-bbdf46c6cf6d"
      },
      "outputs": [],
      "source": []
    },
    {
      "cell_type": "code",
      "execution_count": null,
      "id": "f30b76af-5925-4f79-8fde-8d4f4dd77e30",
      "metadata": {
        "id": "f30b76af-5925-4f79-8fde-8d4f4dd77e30"
      },
      "outputs": [],
      "source": [
        "'''labels=[\"Actinic keratoses and intraepithelial carcinoma / Bowen's disease\",\n",
        "'Basal cell carcinoma',\n",
        "'Benign keratosis-like lesions (solar lentigines / seborrheic keratoses and lichen-planus like keratoses)',\n",
        "'Dermatofibroma',\n",
        "'Melanoma',\n",
        "'Melanocytic nevi',\n",
        "'Vascular lesions (angiomas, angiokeratomas, pyogenic granulomas and hemorrhage)',\n",
        "'Vitiligo']'''"
      ]
    },
    {
      "cell_type": "code",
      "execution_count": null,
      "id": "b0fe62fe-d3a3-4f9b-870a-e73a05b9c765",
      "metadata": {
        "id": "b0fe62fe-d3a3-4f9b-870a-e73a05b9c765",
        "outputId": "fb4586e9-5638-4ad3-ab9f-c200d31447fb"
      },
      "outputs": [
        {
          "name": "stdout",
          "output_type": "stream",
          "text": [
            "1/1 [==============================] - 0s 19ms/step\n"
          ]
        }
      ],
      "source": [
        "'''import tensorflow as tf\n",
        "from tensorflow import keras\n",
        "img = keras.preprocessing.image.load_img('/home/pks/project/testvit.jpg', target_size=(224, 224))\n",
        "img_array = keras.preprocessing.image.img_to_array(img)\n",
        "img_array = tf.expand_dims(img_array, 0)\n",
        "predictions = loaded_model.predict(img_array)\n",
        "y_classes = predictions.argmax(axis=-1)\n",
        "score = max(predictions[0]*100)\n",
        "#print(score)'''"
      ]
    },
    {
      "cell_type": "code",
      "execution_count": null,
      "id": "1ddf9789-d120-4324-8ea7-c7a9de73ae48",
      "metadata": {
        "id": "1ddf9789-d120-4324-8ea7-c7a9de73ae48",
        "outputId": "07d49d5c-4ca1-4a76-bfaf-1e080c3bf190"
      },
      "outputs": [
        {
          "data": {
            "text/plain": [
              "array([1.7850586e-12, 4.8019379e-13, 5.3847307e-13, 2.8898359e-05,\n",
              "       1.8590262e-07, 2.5778008e-04, 8.0754976e-14, 9.9971312e-01],\n",
              "      dtype=float32)"
            ]
          },
          "execution_count": 19,
          "metadata": {},
          "output_type": "execute_result"
        }
      ],
      "source": [
        "#score"
      ]
    },
    {
      "cell_type": "code",
      "execution_count": null,
      "id": "f85f91ca-ac94-4cfe-b5fd-c968f8480373",
      "metadata": {
        "id": "f85f91ca-ac94-4cfe-b5fd-c968f8480373",
        "outputId": "1566bcdc-5ce4-4c07-cc8c-9b0ff9256efe"
      },
      "outputs": [
        {
          "name": "stdout",
          "output_type": "stream",
          "text": [
            "1/1 [==============================] - 0s 19ms/step\n",
            "Vitiligo ---> 99.97131 %\n"
          ]
        }
      ],
      "source": [
        "'''index=np.argmax(loaded_model.predict(img_array), axis=-1)\n",
        "print(labels[index[0]],\"--->\",score,\"%\")'''"
      ]
    },
    {
      "cell_type": "code",
      "execution_count": null,
      "id": "0dd1ecd8-25e2-4fe3-a95c-c5398160041b",
      "metadata": {
        "id": "0dd1ecd8-25e2-4fe3-a95c-c5398160041b"
      },
      "outputs": [],
      "source": []
    }
  ],
  "metadata": {
    "kernelspec": {
      "display_name": "Python 3 (ipykernel)",
      "language": "python",
      "name": "python3"
    },
    "language_info": {
      "codemirror_mode": {
        "name": "ipython",
        "version": 3
      },
      "file_extension": ".py",
      "mimetype": "text/x-python",
      "name": "python",
      "nbconvert_exporter": "python",
      "pygments_lexer": "ipython3",
      "version": "3.10.13"
    },
    "colab": {
      "provenance": []
    }
  },
  "nbformat": 4,
  "nbformat_minor": 5
}